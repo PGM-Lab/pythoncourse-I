{
 "cells": [
  {
   "cell_type": "markdown",
   "metadata": {},
   "source": [
    "<img src=\"assets/almeria.png\" width=\"150px\" alt=\"Logo Almeria\" align=\"right\">\n",
    "\n",
    "\n",
    "<br><br><br>\n",
    "<h1><font color=\"#004D7F\" size=5>Sesión 1</font></h1>\n",
    "\n",
    "\n",
    "\n",
    "<h1><font color=\"#004D7F\" size=6>Introducción a Python</font></h1>\n",
    "\n",
    "<br>\n",
    "<div style=\"text-align: right\">\n",
    "<font color=\"#004D7F\" size=3>Javier Cózar del Olmo</font><br>\n",
    "<font color=\"#004D7F\" size=3>Curso: Introducción a Python</font><br>\n",
    "<font color=\"#004D7F\" size=3>Universidad de Almería</font>\n",
    "\n",
    "</div>"
   ]
  },
  {
   "cell_type": "markdown",
   "metadata": {},
   "source": [
    "<h2><font color=\"#004D7F\" size=5>Índice</font></h2>\n",
    "\n",
    "---\n",
    "\n",
    "El objetivo de este tutorial es conocer los elementos básico del lenguaje python.\n",
    "\n",
    "<a id=\"indice\"></a>\n",
    "\n",
    "A modo de **índice**, en esta sesión se verán:\n",
    "\n",
    "\n",
    "* [1. Declaración de variables y tipos de datos](#variables)\n",
    "* [2. Expresiones](#expresiones)\n",
    "* [3. Estructuras de control](#control)\n",
    "* [4. Funcionalidades built-in](#builtin)\n",
    "* [5. Ejercicios](#ejercicios)"
   ]
  },
  {
   "cell_type": "markdown",
   "metadata": {},
   "source": [
    "---\n",
    "\n",
    "<a id=\"variables\"></a>\n",
    "# <font color=\"#004D7F\" size=5> 1. Declaración de variables</font>"
   ]
  },
  {
   "cell_type": "markdown",
   "metadata": {},
   "source": [
    "# <font color=\"#004D7F\" size=4> Tipado dinámico</font>"
   ]
  },
  {
   "cell_type": "markdown",
   "metadata": {},
   "source": [
    "En Python los **tipos se infieren dinámicamente**, es decir, no es necesario declarar de qué tipo es una variable pero ésta tiene un tipo asociado (el intérprete determina el tipo). Para declarar una variable basta con escribir un **identificador o nombre y asignarle un valor usando el símbolo `=`**. "
   ]
  },
  {
   "cell_type": "code",
   "execution_count": null,
   "metadata": {},
   "outputs": [],
   "source": [
    "# El hashtag se utiliza para escribir comentarios.\n",
    "# Utilízalos para documentar el código y clarificar la funcionalidad implementada!\n",
    "\n",
    "year = 2019\n",
    "\n",
    "print(year)\n",
    "\n",
    "mes = \"abril\"\n",
    "\n",
    "print(mes)"
   ]
  },
  {
   "cell_type": "markdown",
   "metadata": {},
   "source": [
    "<div class=\"alert alert-block alert-info\">\n",
    "<i class=\"fa fa-info-circle\" aria-hidden=\"true\"></i> <strong>Nota</strong>: print es la función que se utiliza para imprimir por terminal al ejecutar python desde un fichero. En jupyter podemos usarla para imprimir varios valores al ejecutar una celda.\n",
    "</div>"
   ]
  },
  {
   "cell_type": "code",
   "execution_count": null,
   "metadata": {},
   "outputs": [],
   "source": [
    "# Si no usamos la asignación, se muestra la salida directamente\n",
    "2 + 5"
   ]
  },
  {
   "cell_type": "markdown",
   "metadata": {},
   "source": [
    "<div class=\"alert alert-block alert-info\">\n",
    "<i class=\"fa fa-info-circle\" aria-hidden=\"true\"></i> <strong>Nota</strong>: En jupyter, si la última sentencia de la celda es una expresión o variable, se mostrará directamente como salida (sin usar print)\n",
    "</div>    "
   ]
  },
  {
   "cell_type": "markdown",
   "metadata": {},
   "source": [
    "Como veis no ha sido necesario especificar el tipo de las variables. Para comprobar el tipo que el intérprete les ha asignado se puede utilizar la función `type`:"
   ]
  },
  {
   "cell_type": "code",
   "execution_count": null,
   "metadata": {},
   "outputs": [],
   "source": [
    "type(year)"
   ]
  },
  {
   "cell_type": "code",
   "execution_count": null,
   "metadata": {},
   "outputs": [],
   "source": [
    "type(mes)"
   ]
  },
  {
   "cell_type": "markdown",
   "metadata": {},
   "source": [
    "En python tenemos distintos tipos. El intérprete asignará uno u otro dependiendo de la expresión que se use en la asignación"
   ]
  },
  {
   "cell_type": "code",
   "execution_count": null,
   "metadata": {},
   "outputs": [],
   "source": [
    "# Algunos de los más comunes\n",
    "\n",
    "entero = 1 # Numeros sin decimal\n",
    "flotante = 1.0 # Numeros en coma flotante\n",
    "texto = \"Hola\" # Cualquier secuencia entrecomillada con '' o \"\"\n",
    "booleano = True # Puede ser True o False\n",
    "\n",
    "vacio = None # None es una palabra reservada\n",
    "\n",
    "print(entero)\n",
    "print(flotante)\n",
    "print(cadena)\n",
    "print(booleano)\n",
    "print(vacio)"
   ]
  },
  {
   "cell_type": "markdown",
   "metadata": {},
   "source": [
    "Vamos a comprobar el tipo de las variables creadas"
   ]
  },
  {
   "cell_type": "code",
   "execution_count": null,
   "metadata": {},
   "outputs": [],
   "source": [
    "print(type(entero))\n",
    "print(type(flotante))\n",
    "print(type(cadena))\n",
    "print(type(booleano))\n",
    "print(type(vacio))"
   ]
  },
  {
   "cell_type": "markdown",
   "metadata": {},
   "source": [
    "<div class=\"alert alert-block alert-warning\">\n",
    "<i class=\"fa fa-exclamation-circle\" aria-hidden=\"true\"></i>\n",
    "La comodidad y flexibilidad de no tener que declarar tipos es muy potente, pero hay que manejarla con cautela. Cuando se realiza una asignación, se producen dos pasos:\n",
    "<ol>\n",
    "    <li>Si no existe la variable, se crea</li>\n",
    "    <li>Se realiza la asignación de la expresión a la variable, cambiando el tipo dinámicamente si es necesario</li>\n",
    "</ol>\n",
    "<strong>¡Cuidado al nombrar las variables, ya que es posible reasignar (sobreescribir) otras variables, funciones, u otros elementos como paquetes importados!</strong>\n",
    "</div>"
   ]
  },
  {
   "cell_type": "code",
   "execution_count": null,
   "metadata": {},
   "outputs": [],
   "source": [
    "variable = \"Creada por primera vez\"\n",
    "print(variable)  # Imprime el string \"Creada por primera vez\"\n",
    "\n",
    "variable = \"Este valor ha sido asignado\"\n",
    "print(variable)  # Imprime el string \"Este valor ha sido asignado\"\n",
    "\n",
    "# Asignamos ahora un número.\n",
    "variable = 1.0\n",
    "print(variable)  # ¡El tipo de la variable a cambiado dinámicamente a float!"
   ]
  },
  {
   "cell_type": "markdown",
   "metadata": {},
   "source": [
    "<font size=4> <i class=\"fa fa-book\" aria-hidden=\"true\" style=\"color:#004D7F\"></i> </font> No es necesario entender la asignación de funciones en este momento. El siguiente ejemplo es una simple ilustración de una mala práctica a la hora de nombrar variables, que pueden tener efectos negativos (perdiendo la función print en este ejemplo)."
   ]
  },
  {
   "cell_type": "code",
   "execution_count": null,
   "metadata": {},
   "outputs": [],
   "source": [
    "_print = print # asignamos la funcion print en una variable temporal, para recuperarla despues de este ejemplo"
   ]
  },
  {
   "cell_type": "code",
   "execution_count": null,
   "metadata": {},
   "outputs": [],
   "source": [
    "print = \"Un texto almacenado en una variable llamada print.\"\n",
    "print(\"Hola\")  # ¡Ahora print es un string, no la función que estabamos utilizando para imprimir valores!"
   ]
  },
  {
   "cell_type": "code",
   "execution_count": null,
   "metadata": {},
   "outputs": [],
   "source": [
    "print = _print # recuperamos la función print"
   ]
  },
  {
   "cell_type": "markdown",
   "metadata": {},
   "source": [
    "# <font color=\"#004D7F\" size=4> Nombres de variables permitidos </font>\n",
    "\n",
    "Un identificador **válido** debe cumplir una serie de **condiciones**:\n",
    "\n",
    "* Tiene que **empezar por una letra o el símbolo _**\n",
    "* No puede contener espacios\n",
    "* Aunque puede contener caractéres especiales, como la ñ, se recomienda no hacerlo (estándar en programación)"
   ]
  },
  {
   "cell_type": "code",
   "execution_count": null,
   "metadata": {},
   "outputs": [],
   "source": [
    "mivariable = 1       # Tiene que empezar por una letra\n",
    "_mivariable = 0.123  # O empezar por el símbolo _\n",
    "\n",
    "# Tras el primer caracter, se permiten letras, números y _ (pero no espacios)\n",
    "_123 = \"Hola\"  \n",
    "var2_3_4_final = \"Mundo\""
   ]
  },
  {
   "cell_type": "markdown",
   "metadata": {},
   "source": [
    "# <font color=\"#004D7F\" size=4> Casting the variables </font>\n",
    "\n",
    "Es posible transformar un tipo de dato en otro de forma explícita. Para ello, haremos uso de los siguientes métodos:\n",
    "\n",
    "- `int`: transforma a número entero\n",
    "- `float`: transforma a número real\n",
    "- `str`: transforma a cadena de caracteres\n",
    "- `bool`: transforma a booleano"
   ]
  },
  {
   "cell_type": "code",
   "execution_count": null,
   "metadata": {},
   "outputs": [],
   "source": [
    "# Declaramos una variable, que inicialmente será de tipo string\n",
    "variable = \"1\"\n",
    "type(variable)"
   ]
  },
  {
   "cell_type": "code",
   "execution_count": null,
   "metadata": {},
   "outputs": [],
   "source": [
    "variable_entero = int(variable)\n",
    "variable_real = float(variable)\n",
    "variable_bool = bool(variable)\n",
    "uno_string = str(1)  # transformamos un entero en un string\n",
    "\n",
    "print(variable_entero)\n",
    "print(variable_real)\n",
    "print(variable_bool)\n",
    "print(uno_string)"
   ]
  },
  {
   "cell_type": "markdown",
   "metadata": {},
   "source": [
    "Las transformaciones del tipo de datos debe tener sentido:"
   ]
  },
  {
   "cell_type": "code",
   "execution_count": null,
   "metadata": {},
   "outputs": [],
   "source": [
    "variable = \"No soy un número\"\n",
    "int(variable)  #causará un error en la ejecución"
   ]
  },
  {
   "cell_type": "markdown",
   "metadata": {},
   "source": [
    "<div style=\"text-align: right\"> <font size=5>\n",
    "    <a href=\"#indice\"><i class=\"fa fa-arrow-circle-up\" aria-hidden=\"true\" style=\"color:#004D7F\"></i></a>\n",
    "</font></div>\n",
    "\n",
    "---\n",
    "\n",
    "<a id=\"expresiones\"></a>\n",
    "# <font color=\"#004D7F\" size=5> 2. Expresiones</font>"
   ]
  },
  {
   "cell_type": "markdown",
   "metadata": {},
   "source": [
    "Una expresión es cualquier operación que finalmente resuelva a un valor.\n",
    "\n",
    "- Un literal\n",
    "- Una variable\n",
    "- Una operación entre literales o variables\n",
    "- La llamada a una función\n",
    "- Una operación entre una variable y la salida de una función"
   ]
  },
  {
   "cell_type": "markdown",
   "metadata": {},
   "source": [
    "<div class=\"alert alert-block alert-info\">\n",
    "<i class=\"fa fa-info-circle\" aria-hidden=\"true\"></i> <strong>Nota</strong>: Una asignación se compone de dos partes, separadas por el símbolo <strong>=</strong>: el nombre de una variable (izquierda), y una expresión (derecha).\n",
    "</div>    "
   ]
  },
  {
   "cell_type": "markdown",
   "metadata": {},
   "source": [
    "# <font color=\"#004D7F\" size=4> 2.1 Operadores aritméticos </font>"
   ]
  },
  {
   "cell_type": "markdown",
   "metadata": {},
   "source": [
    "Operadores entre variables numéricas"
   ]
  },
  {
   "cell_type": "code",
   "execution_count": null,
   "metadata": {},
   "outputs": [],
   "source": [
    "print(2 + 3)     # Suma: 5\n",
    "print(2 - 3)     # Resta: -1\n",
    "print(-6)        # Un número negativo: -6\n",
    "\n",
    "print()\n",
    "\n",
    "print(2 * 3)     # Multiplicación: 6\n",
    "print(5 / 2)     # División flotante: 2.5\n",
    "print(4 / 2)     # Aunque los números sean enteros y la división sea exacta\n",
    "                 # el resultado es un número flotante\n",
    "print(5 // 2)    # División entera: 2 (se trunca; equivalente a int(5/2))\n",
    "print(4 // 2)    # El resultado es un entero: 2\n",
    "\n",
    "print()\n",
    "\n",
    "print(5 % 2)     # El módulo es 1 (resto de 5 / 2)\n",
    "print(2**3)      # 2 elevado a 3: 8"
   ]
  },
  {
   "cell_type": "markdown",
   "metadata": {},
   "source": [
    "# <font color=\"#004D7F\" size=4> Jerarquía (precedencia) de operadores </font>\n",
    "\n",
    "La jerarquía natural de las operaciones es la habitual: primero potencias, luego multiplicación y división, y por último sumas y restas. Se puede utilizar los paréntesis para cambiar el orden natural:"
   ]
  },
  {
   "cell_type": "code",
   "execution_count": null,
   "metadata": {},
   "outputs": [],
   "source": [
    "x = 3 * 2**3 + 5  # = 3 * 8 + 5 = 24 + 5 = 29\n",
    "print(x)\n",
    "\n",
    "x = (3 * 2)**(3 + 5)  # = 6 ** 8 = 1679616\n",
    "print(x)"
   ]
  },
  {
   "cell_type": "markdown",
   "metadata": {},
   "source": [
    "<div style=\"text-align: right\"> <font size=5>\n",
    "    <a href=\"#indice\"><i class=\"fa fa-arrow-circle-up\" aria-hidden=\"true\" style=\"color:#004D7F\"></i></a>\n",
    "</font></div>\n",
    "\n",
    "---\n",
    "\n",
    "# <font color=\"#004D7F\" size=4> 2.2 Operadores lógicos </font>"
   ]
  },
  {
   "cell_type": "markdown",
   "metadata": {},
   "source": [
    "Existen operadores de comparación entre números y objetos, que devuelven un booleano."
   ]
  },
  {
   "cell_type": "code",
   "execution_count": null,
   "metadata": {},
   "outputs": [],
   "source": [
    "print(1 == 2) # Igualdad\n",
    "print(1 < 2)  # Comparacion\n",
    "print(1 > 2)  # Comparacion\n",
    "print(1 <= 2) # Comparacion\n",
    "print(1 <= 2) # Comparacion"
   ]
  },
  {
   "cell_type": "markdown",
   "metadata": {},
   "source": [
    "Existen operadores de booleanos para formar expresiones booleanas más complejas. Éstas son de gran utilidad para formar condiciones, por ejemplo para bucles while y sentencias if-else (se verán más adelante).\n",
    "\n",
    "Algunos de los operadores básicos son:\n",
    "\n",
    "* **not**: niega el valor booleano\n",
    "* **and**: conjunción\n",
    "* **or**: disyunción"
   ]
  },
  {
   "cell_type": "code",
   "execution_count": null,
   "metadata": {},
   "outputs": [],
   "source": [
    "print(not (1 == 2)) # Negacion\n",
    "print((1 < 2) and (2 > 3)) # Conjunción\n",
    "print((1 < 2) or (2 > 3))  # Opcion"
   ]
  },
  {
   "cell_type": "markdown",
   "metadata": {},
   "source": [
    "<div style=\"text-align: right\"> <font size=5>\n",
    "    <a href=\"#indice\"><i class=\"fa fa-arrow-circle-up\" aria-hidden=\"true\" style=\"color:#004D7F\"></i></a>\n",
    "</font></div>\n",
    "\n",
    "---\n",
    "\n",
    "<a id=\"section2B\"></a> \n",
    "# <font color=\"#004D7F\" size=4> 2.3 Operadores sobre strings </font>"
   ]
  },
  {
   "cell_type": "markdown",
   "metadata": {},
   "source": [
    "Se utilizan los operadores vistos anteriormente sobre números (operadores aritméticos). Estos operadores están _sobrecargados_, detectando automáticamente en función del tipo de las variables qué funcionalidad debe aplicar."
   ]
  },
  {
   "cell_type": "code",
   "execution_count": null,
   "metadata": {},
   "outputs": [],
   "source": [
    "print('a' + 'b') # Concatenacion\n",
    "print('a'* 4) # Repeticion"
   ]
  },
  {
   "cell_type": "markdown",
   "metadata": {},
   "source": [
    "Existe la misma jerarquía entre los operadores `+` y `*`, vista anteriormente."
   ]
  },
  {
   "cell_type": "code",
   "execution_count": null,
   "metadata": {},
   "outputs": [],
   "source": [
    "print('a' + 'b' * 4) # Primero aplica la repetición de b, y despues concatena a con el resultado\n",
    "print(('a' + 'b') * 4) # Primero aplica la concatenación, y despues la repetición"
   ]
  },
  {
   "cell_type": "markdown",
   "metadata": {},
   "source": [
    "# <font color=\"#004D7F\" size=4> Formateo de Strings </font>"
   ]
  },
  {
   "cell_type": "markdown",
   "metadata": {},
   "source": [
    "Cuando queremos incluir prints para que la salida de nuestros programas sea enriquecida y muestre información útil, podemos construir strings con el valor de variables declaradas en nuestro código.\n",
    "\n",
    "Para ello, podemos hacer uso de los operadores de **concatenación** y **casting** de tipo de datos:"
   ]
  },
  {
   "cell_type": "code",
   "execution_count": null,
   "metadata": {},
   "outputs": [],
   "source": [
    "a = 4\n",
    "b = 5\n",
    "resultado = a + b\n",
    "print(\"El resultado de sumar \" + str(a) + \" y \" + str(b) + \" es \" + str(resultado))"
   ]
  },
  {
   "cell_type": "markdown",
   "metadata": {},
   "source": [
    "Para simplificar y hacer más cómoda la construcción de este tipo de strings existe el método `format`. A partir de _python 3.6_ se puede declarar un string anteponiendo la letra `f` (`f\"String formateado\"`). Para introducir valores de variables previamente declaradas en la cadena de texto, basta con poner el nombre de la variable entre llaves `{}`."
   ]
  },
  {
   "cell_type": "code",
   "execution_count": null,
   "metadata": {},
   "outputs": [],
   "source": [
    "a = 4\n",
    "b = 5\n",
    "resultado = a + b\n",
    "print(f\"El resultado de sumar {a} y {b} es {resultado}\")"
   ]
  },
  {
   "cell_type": "markdown",
   "metadata": {},
   "source": [
    "<div style=\"text-align: right\"> <font size=5>\n",
    "    <a href=\"#indice\"><i class=\"fa fa-arrow-circle-up\" aria-hidden=\"true\" style=\"color:#004D7F\"></i></a>\n",
    "</font></div>\n",
    "\n",
    "---\n",
    "\n",
    "<a id=\"control\"></a>\n",
    "# <font color=\"#004D7F\" size=5> 3. Estructuras de control</font>"
   ]
  },
  {
   "cell_type": "markdown",
   "metadata": {},
   "source": [
    "Las estructuras de control sirven para definir flujos de ejecución dentro de un programa. Las estructuras básicas de control son:\n",
    "\n",
    "* **If-else**: estructura condicional\n",
    "* **Bucle for**: estructura de bucle for\n",
    "* **Bucle while**: estructura de bucle while\n",
    "\n",
    "<div class=\"alert alert-block alert-info\">\n",
    "<i class=\"fa fa-info-circle\" aria-hidden=\"true\"></i>\n",
    "Las estrucutras de control dividen el código en <strong>bloques</strong> que deben ser demilitados. En python hay una serie de reglas sintácticas que son muy características.\n",
    "\n",
    "Esto puede costar a la hora de migrar de lenguaje, pero hacen el código mucho más limpio y legible.\n",
    "</div>\n",
    "\n",
    "# <font color=\"#004D7F\" size=3>Bloques por indentación</font>\n",
    "\n",
    "En python no existen llaves como en la mayoría de lenguajes populares (java, C, ...) para definir (o delimitar ) bloques de código. \n",
    "\n",
    "Por el contrario, en python utilizamos directamente la __indentación__, que consiste en <strong>4 espacios consecutivos</strong>, para definir los bloques de código.\n",
    "\n",
    "# <font color=\"#004D7F\" size=3>Estructuras de control delimitadas por dos puntos</font>\n",
    "\n",
    "Para delimitar el fin de una estructura de control (y el comienzo del bloque asociado a dicha estructura) utilizamos los dos puntos `:`"
   ]
  },
  {
   "cell_type": "markdown",
   "metadata": {},
   "source": [
    "# <font color=\"#004D7F\" size=3>If</font>\n",
    "\n",
    "La estructura condicional permite **bifurcar el flujo de la ejecución de un programa** en dos alternativas. Mediante el uso de una expresión booleana (que se resuelve como `True` o `False`), perimte ejecutar uno u otro bloque, asociados a cada uno de los posibles valores booleanos."
   ]
  },
  {
   "cell_type": "code",
   "execution_count": null,
   "metadata": {},
   "outputs": [],
   "source": [
    "# if condición booleana:\n",
    "#     # indentación de 4 espacios para definir código dentro del if.\n",
    "#     código ejecutado si condición es True\n",
    "# else:\n",
    "#     # indentación de 4 espacios para definir código dentro del else.\n",
    "#     código ejecutado si condición es False\n",
    "\n",
    "x = 2\n",
    "\n",
    "if x % 2 == 0:\n",
    "    print(\"x es par\")\n",
    "else:\n",
    "    print(\"x es impar\")"
   ]
  },
  {
   "cell_type": "markdown",
   "metadata": {},
   "source": [
    "# <font color=\"#004D7F\" size=3>For</font>\n",
    "\n",
    "La estructura de bucle for permite **repetir un bloque de código** tantas veces como elementos tenga una secuencia (un objeto **iterable** o **generador**). En cada iteración sobre el bucle, una variable tomará el valor de cada uno de los elementos de esa secuencia.\n",
    "\n",
    "<div class=\"alert alert-block alert-info\">\n",
    "<i class=\"fa fa-info-circle\" aria-hidden=\"true\"></i>\n",
    "<strong>Nota</strong>: En este ejemplo, usaremos una lista de números. Las estructuras de datos (dónde se explicarán las listas, entre otras) se verán la proxima semana.\n",
    "</div>"
   ]
  },
  {
   "cell_type": "code",
   "execution_count": null,
   "metadata": {},
   "outputs": [],
   "source": [
    "# for variable in lista:\n",
    "#     # código a ejecutar dentro del bucle, donde variable toma cada uno de los valores de la lista\n",
    "#     # (el código se ejecutará tantas veces como valores diferentes haya en la lista)\n",
    "\n",
    "for i in [1, 2, 3, 4]:\n",
    "    print(f\"Soy el número {i}\")"
   ]
  },
  {
   "cell_type": "markdown",
   "metadata": {},
   "source": [
    "# <font color=\"#004D7F\" size=3>While</font>\n",
    "\n",
    "La estructura de bucle for permite **repetir un bloque de código** en función de una expresión **booleana**. Al comienzo de cada iteración se comprobará el valor de esta expresión, y se continuará ejecutando el bucle si la condición es `True`, y se terminará en caso contrario (`False`)"
   ]
  },
  {
   "cell_type": "code",
   "execution_count": null,
   "metadata": {},
   "outputs": [],
   "source": [
    "# while condición:\n",
    "#     # indentación de 4 espacios para definir código dentro del for.\n",
    "#     # código a ejecutar dentro del bucle, donde variable toma cada uno de los valores de la lista\n",
    "#     # (el código se ejecutará tantas veces como valores diferentes haya en la lista)\n",
    "\n",
    "x = 1\n",
    "while x < 5:\n",
    "    print(f\"Soy el número {x}\")\n",
    "    x += 1"
   ]
  },
  {
   "cell_type": "markdown",
   "metadata": {},
   "source": [
    "<div style=\"text-align: right\"> <font size=5>\n",
    "    <a href=\"#indice\"><i class=\"fa fa-arrow-circle-up\" aria-hidden=\"true\" style=\"color:#004D7F\"></i></a>\n",
    "</font></div>\n",
    "\n",
    "---\n",
    "\n",
    "<a id=\"builtin\"></a>\n",
    "# <font color=\"#004D7F\" size=5> 4. Funciones built-in</font>"
   ]
  },
  {
   "cell_type": "markdown",
   "metadata": {},
   "source": [
    "Una **función** es un bloque que parte de unas entradas (argumentos), que son utilizados por un código que ejecuta internamente para devolver una salida. Por ejemplo, la función `sum(x, y)` es una función que recibe dos números `x` e `y`, y devuelve como salida la suma de ambos. El uso de una función se realiza mediante su nombre (`sum`) e introduciendo la lista de variables de entrada (**argumentos**), separadas por comas, entre paréntesis: por ejemplo al ejecutar `sum(2,3)` devuelve 5.\n",
    "\n",
    "En este [enlace](https://docs.python.org/3.6/library/functions.html) se puede ver la lista de funciones built-in en Python 3.6. Éstas son funciones que están disponibles desde que se inicia el intérprete. A continuación se describen las que pueden resultar de mayor interes durante el curso. Éstas son un subconjunto de las más importantes:\n",
    "\n",
    "* **abs**: Computa el valor absoluto\n",
    "* **input**: Permite solicitar un valor por teclado para, por ejemplo, signarlo a una variable. \n",
    "* **max**: Computa el máximo entre los números pasados como argumentos\n",
    "* **min**: Computa el mínimo entre los números pasados como argumentos\n",
    "* **pow**: Computa la potencia del primer argumento (base) con el segundo argumento (exponente)\n",
    "* **print**: Función que imprime en la salida el string pasado como argumento. Si no es un string, intentará castearlo a string.\n",
    "* **range** Genera un rango de enteros (secuencia de números enteros)\n",
    "* **round**: Redondea un número flotante a entero. **Utiliza el método de redondeo del banquero**."
   ]
  },
  {
   "cell_type": "markdown",
   "metadata": {},
   "source": [
    "# <font color=\"#004D7F\" size=3> abs </font>"
   ]
  },
  {
   "cell_type": "code",
   "execution_count": null,
   "metadata": {},
   "outputs": [],
   "source": [
    "# Función valor absoluto\n",
    "abs(-1)  # Devuelve 1"
   ]
  },
  {
   "cell_type": "markdown",
   "metadata": {},
   "source": [
    "# <font color=\"#004D7F\" size=3> input </font>"
   ]
  },
  {
   "cell_type": "code",
   "execution_count": null,
   "metadata": {},
   "outputs": [],
   "source": [
    "# input() solicita un valor por teclado. En jupyter notebook aparece\n",
    "# un campo de texto en la sección de salida: se introduce el valor y se\n",
    "# confirma pulsando intro\n",
    "x = input()\n",
    "print(\"Has introducido el valor: \")\n",
    "print(x)\n",
    "\n",
    "# Se puede introducir un texto informativo en el input:\n",
    "x = input(\"Introduce un número entero\")\n",
    "print(x)"
   ]
  },
  {
   "cell_type": "markdown",
   "metadata": {},
   "source": [
    "# <font color=\"#004D7F\" size=3> max / min </font>"
   ]
  },
  {
   "cell_type": "code",
   "execution_count": null,
   "metadata": {},
   "outputs": [],
   "source": [
    "# max y min\n",
    "a = 3\n",
    "b = 7\n",
    "c = 6\n",
    "\n",
    "print( max(a, b, c) )  # Imprime el valor máximo de a, b y c\n",
    "print( min(b, a, c) )  # Imprime el valor mínimo de a, b y c"
   ]
  },
  {
   "cell_type": "markdown",
   "metadata": {},
   "source": [
    "# <font color=\"#004D7F\" size=3> pow </font>"
   ]
  },
  {
   "cell_type": "code",
   "execution_count": null,
   "metadata": {},
   "outputs": [],
   "source": [
    "# Función pow. Computa la potencia del primer argumento (base)\n",
    "# con el segundo argumento (exponente)\n",
    "\n",
    "print( pow(3, 4) ) # Imprime 3 elevado a 4\n",
    "\n",
    "# Ya vimos el operador equivalente, que es más intuitivo: el doble asterisco\n",
    "print( 3**4 )      # Imprime 3 elevado a 4"
   ]
  },
  {
   "cell_type": "markdown",
   "metadata": {},
   "source": [
    "# <font color=\"#004D7F\" size=3> print </font>"
   ]
  },
  {
   "cell_type": "code",
   "execution_count": null,
   "metadata": {},
   "outputs": [],
   "source": [
    "# print. Como hemos estado utilizando, imprime lo que se le pasa como argumento\n",
    "print(\"Hola mundo\")\n",
    "\n",
    "# Se le puede pasar más de un argumento, y los concatena usando un espacio\n",
    "print(\"Hola\", \"mundo\")\n",
    "\n",
    "# Los argumentos pueden ser de diferentes tipos (los que no son String los convierte)\n",
    "print(2, \"más\", 2, \"son\", 4)\n",
    "\n",
    "# Se puede especificar el caracter de separación entre argumentos (por defecto el espacio)\n",
    "print(2, \"más\", 2, \"son\", 4, sep=\"-->\")"
   ]
  },
  {
   "cell_type": "markdown",
   "metadata": {},
   "source": [
    "# <font color=\"#004D7F\" size=3> range </font>\n",
    "\n",
    "<div class=\"alert alert-block alert-info\"><i class=\"fa fa-info-circle\" aria-hidden=\"true\"></i> Sirve para generar <strong>secuencias de números</strong>. Se pueden usar directamente en un bucle for.\n",
    "\n",
    "</div>"
   ]
  },
  {
   "cell_type": "code",
   "execution_count": null,
   "metadata": {},
   "outputs": [],
   "source": [
    "# Range permite especificar una secuencia de enteros. Tiene 3 argumentos:\n",
    "# range(valor inicial inclusive, valor final exclusive, incremento)\n",
    "\n",
    "for x in range(5, 10, 2):\n",
    "    print( x )  # 5, 7 y 9\n",
    "\n",
    "print()\n",
    "    \n",
    "for x in range(10, 6, -1):\n",
    "    print( x )  # 10, 9 y 8 y 7\n",
    "\n",
    "print()\n",
    "\n",
    "# Algunos argumentos se pueden omitir. Si solo se especifican 2, corresponden\n",
    "# con el valor inicial y final, y se supone el incremento = +1\n",
    "for x in range(1, 3):\n",
    "    print( x )  # 1 y 2\n",
    "\n",
    "print()\n",
    "\n",
    "# Por ello, si se empieza en 3 y se termina en 1 con incrementos de +1, la secuencia es vacía\n",
    "for x in range(3, 1):\n",
    "    print( x )  # Secuencia vacía\n",
    "\n",
    "print()\n",
    "\n",
    "# Si solo se especifica un argumento, éste es el valor final, siendo el valor\n",
    "# inicial 0, y el incremento +1\n",
    "for x in range(5):\n",
    "    print( x )  # 0, 1, 2, 3 y 4"
   ]
  },
  {
   "cell_type": "markdown",
   "metadata": {},
   "source": [
    "# <font color=\"#004D7F\" size=3> round </font>"
   ]
  },
  {
   "cell_type": "code",
   "execution_count": null,
   "metadata": {},
   "outputs": [],
   "source": [
    "# Función round. Redondea al entero siguiendo el método del banquero:\n",
    "# Se trata de un redondeo más justo. Es un redondeo típico si la parte\n",
    "# decimal es >.5 o <.5. Sin embargo, si es exactamente .5: si la parte\n",
    "# entera es par, se redondea como si fuese <.5, y si es impar como si fuese > .5\n",
    "\n",
    "# Se redondea al entero más cercano\n",
    "print( round(10.4) )  # 10.4 se redondea a 10\n",
    "print( round(10.6) )  # 10.6 se redondea a 11\n",
    "print( round(11.4) )  # 11.4 se redondea a 11\n",
    "print( round(11.6) )  # 11.6 se redondea a 12\n",
    "\n",
    "print()\n",
    "# En cambio, si la parte decimal es .5 exactamente\n",
    "# Si la parte entera es par, se redondea como si fuese <.5\n",
    "print( round(10.5) )  # 10.5 se redondea a 10\n",
    "print( round(-10.5) ) # -10.5 se redondea a 10\n",
    "# Si la parte entera es impar, se redondea como si fuese >.5\n",
    "print( round(11.5) )  # 11.5 se redondea a 12\n",
    "print( round(-11.5) ) # -11.5 se redondea a -12"
   ]
  },
  {
   "cell_type": "markdown",
   "metadata": {},
   "source": [
    "<div style=\"text-align: right\"> <font size=5>\n",
    "    <a href=\"#indice\"><i class=\"fa fa-arrow-circle-up\" aria-hidden=\"true\" style=\"color:#004D7F\"></i></a>\n",
    "</font></div>\n",
    "\n",
    "---\n",
    "\n",
    "<a id=\"ejercicios\"></a>\n",
    "# <font color=\"#004D7F\" size=5> 5. Ejercicios</font>"
   ]
  },
  {
   "cell_type": "markdown",
   "metadata": {},
   "source": [
    "$\\bullet$ ¿Cuánto es 7 elevado a 4?"
   ]
  },
  {
   "cell_type": "code",
   "execution_count": null,
   "metadata": {},
   "outputs": [],
   "source": []
  },
  {
   "cell_type": "markdown",
   "metadata": {},
   "source": [
    "$\\bullet$ Imprime el mensaje: \"El diametro de la tierra es 12742\" usando las dos variables siguientes"
   ]
  },
  {
   "cell_type": "code",
   "execution_count": null,
   "metadata": {},
   "outputs": [],
   "source": [
    "planeta = 'Tierra'\n",
    "diametro = 12742\n",
    "\n",
    "# Completar"
   ]
  },
  {
   "cell_type": "markdown",
   "metadata": {},
   "source": [
    "$\\bullet$ Dada la ecuación $4x^2 -7x + 3 = 0$, calcular los dos posibles valores para la variable x\n",
    "\n",
    "<font size=4> <i class=\"fa fa-book\" aria-hidden=\"true\" style=\"color:#004D7F\"></i> </font> Dada la ecuación $ax^2 + bx + c = 0$, la fórmula para despejar la variable `x` es: $x = \\frac{-b \\pm \\sqrt{b^2 - 4ac}}{2a}$"
   ]
  },
  {
   "cell_type": "code",
   "execution_count": null,
   "metadata": {},
   "outputs": [],
   "source": [
    "import math\n",
    "raiz = math.sqrt\n",
    "# para calcular la raiz de un número, por ejemplo 5, podemos escribir raiz(5)\n",
    "raiz(5)"
   ]
  },
  {
   "cell_type": "code",
   "execution_count": null,
   "metadata": {},
   "outputs": [],
   "source": [
    "a = 4\n",
    "b = -7\n",
    "c = 3\n",
    "# Completar\n",
    "# solucion1 = ...\n",
    "# solucion2 = ..."
   ]
  },
  {
   "cell_type": "code",
   "execution_count": null,
   "metadata": {},
   "outputs": [],
   "source": [
    "# Comprobación el resultado\n",
    "for x in [solucion1, solucion2]:\n",
    "    print(f\"Usando x={x}, la expresión se evalua a {a * x**2 + b * x + c}\")  # Se debe evaluar a 0.0"
   ]
  },
  {
   "cell_type": "markdown",
   "metadata": {},
   "source": [
    "$\\bullet$ Vamos a calcular el factorial de un número solicitado por teclado (usando la función `input`).\n",
    "\n",
    "<font size=4> <i class=\"fa fa-book\" aria-hidden=\"true\" style=\"color:#004D7F\"></i> </font> El factorial de un número $n$ ($n!$) se calcula como $\\prod_{k=1}^n k$, es decir, $n! = 1 \\cdot 2 \\cdot 3 \\cdot \\ldots \\cdot (n-1) \\cdot  n$"
   ]
  },
  {
   "cell_type": "code",
   "execution_count": null,
   "metadata": {},
   "outputs": [],
   "source": [
    "# Pedir por teclado el número n\n",
    "# n = ...\n",
    "\n",
    "resultado = 1\n",
    "# utilizar un bucle for, y la función built-in range para realizar las multiplicaciones desde 1 hasta n\n",
    "# acumulando los resultados parciales en resultado:\n",
    "# (resultado = resultado * 1, resultado = resultado * 2, ... resultado = resultado * n)"
   ]
  },
  {
   "cell_type": "markdown",
   "metadata": {},
   "source": [
    "$\\bullet$ Vamos a implementar un juego que consiste en adivinar una secuencia de números generada por el intérprete. Se seguirá la siguiente secuencia de pasos:\n",
    "\n",
    "1. Nos debe preguntar por teclado la longitud de la secuencia de números que generará, variable que llamaremos `N` (por ejemplo, 4 generará secuencias con los números 1, 2, 3 y 4).\n",
    "2. Se generará una secuencia aleatoria que contendrá los números de 1 a `N`. Para ello se os proporciona el código que la genera."
   ]
  },
  {
   "cell_type": "code",
   "execution_count": null,
   "metadata": {},
   "outputs": [],
   "source": [
    "import random  # necesario para generar la secuencia de números aleatoriamente\n",
    "\n",
    "# Pedir por teclado el número N (longitud de la secuencia de números a generar)\n",
    "# N = ...\n",
    "\n",
    "# Generamos la secuencia aleatoriamente\n",
    "l = list(range(N))\n",
    "random.shuffle(l)\n",
    "lista = ''.join([str(x + 1) for x in l])\n",
    "# En lista tenemos un string que es una secuencia de números, por ejemplo con N=4, '3214'\n",
    "\n",
    "numero_intentos = 0\n",
    "es_adivinado = False\n",
    "# Ahora en un bucle while, iterar mientras es_adivinado es False. Dentro del bucle, preguntaremos por teclado\n",
    "# la cadena de texto que creemos que el intérprete ha generado.\n",
    "# Si acertamos, cambiaremos es_adivinado a True y terminará la ejecución del bucle. Además imprimiermos un mensaje.\n",
    "# Si fallamos, incrementaremos el valor de numero_intentos en 1, e imprimiremos un mensaje indicando dicho valor."
   ]
  }
 ],
 "metadata": {
  "anaconda-cloud": {},
  "kernelspec": {
   "display_name": "Python 3",
   "language": "python",
   "name": "python3"
  },
  "language_info": {
   "codemirror_mode": {
    "name": "ipython",
    "version": 3
   },
   "file_extension": ".py",
   "mimetype": "text/x-python",
   "name": "python",
   "nbconvert_exporter": "python",
   "pygments_lexer": "ipython3",
   "version": "3.6.2"
  }
 },
 "nbformat": 4,
 "nbformat_minor": 1
}
