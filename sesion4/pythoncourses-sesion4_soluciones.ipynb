{
 "cells": [
  {
   "cell_type": "markdown",
   "metadata": {},
   "source": [
    "<div style=\"background-image: url(../assets/header.png); background-size: cover; height: 100px\">\n",
    "<div style=\"padding: 10px; padding-left:20px\">    \n",
    "    \n",
    "<h1><font color=\"#585858\" size=4>Módulo 4</font><br>\n",
    "    <font color=\"#585858\" size=5>Funciones, clases, paquetes y módulos</font></h1>\n",
    "</div>\n",
    "</div>\n",
    "\n",
    "\n",
    "<br>\n",
    "<div style=\"text-align: left\">\n",
    "<font color=\"#585858\" size=3>Rafael Cabañas</font><br>\n",
    "<font color=\"#585858\" size=3>Curso de Python I</font><br>\n",
    "<font color=\"#585858\" size=3>Universidad de Almería</font>\n",
    "\n",
    "</div>"
   ]
  },
  {
   "cell_type": "markdown",
   "metadata": {},
   "source": [
    "<h2><font color=\"#004D7F\" size=5>Índice</font></h2>\n",
    "\n",
    "---\n",
    "\n",
    "El objetivo de este tutorial es aprender a utilizar las estructuras de datos básicas en Python a partir de una serie de ejercicios. Para más información, se pueden consultar las trasparencias: \n",
    "\n",
    "[https://github.com/PGM-Lab/pythoncourse-I/blob/master/sesion4/pythoncourses-sesion4.pdf](https://github.com/PGM-Lab/pythoncourse-I/blob/master/sesion3/pythoncourses-sesion4.pdf)\n",
    "\n",
    "\n",
    "\n",
    "A modo de **índice**, en este tutorial se verán:\n",
    "\n",
    "\n",
    "* [1. Funciones](#sec1)\n",
    "* [2. Clases](#sec2)\n",
    "* [3. Paquetes y módulos](#sec3)\n",
    "* [4. Ejercicio global](#sec4)\n",
    "\n",
    "\n",
    "\n",
    "El nivel de dificultad viene indicado por el número de ♦.\n"
   ]
  },
  {
   "cell_type": "markdown",
   "metadata": {},
   "source": [
    "<h2 id=\"#sec1\"><font color=\"#004D7F\" size=5>1. Funciones </font></h2>\n",
    "\n"
   ]
  },
  {
   "cell_type": "markdown",
   "metadata": {},
   "source": [
    "**Ejercicio 1.1** ♦\n",
    "\n",
    "Definir una función que calcule el logaritmo de `x` en una `base` dada. La base es opcional, en tal caso devolver el logaritmo neperiano.\n",
    "\n",
    "_Pista_ : el logaritmo neperiano es `math.log(x)` mientras que el de cualquier base se puede calcular `math.log(x)/math.log(base)`.\n"
   ]
  },
  {
   "cell_type": "code",
   "execution_count": 10,
   "metadata": {
    "scrolled": true
   },
   "outputs": [
    {
     "name": "stdout",
     "output_type": "stream",
     "text": [
      "2.0\n",
      "1.0\n"
     ]
    }
   ],
   "source": [
    "import math\n",
    "\n",
    "#########\n",
    "\n",
    "def logaritmo(x, base=None):\n",
    "    if base == None:\n",
    "        return math.log(x)\n",
    "    else:\n",
    "        return math.log(x)/math.log(base)\n",
    "\n",
    "\n",
    "#########\n",
    "    \n",
    "print(logaritmo(100,10))\n",
    "print(logaritmo(math.exp(1)))\n",
    "\n"
   ]
  },
  {
   "cell_type": "markdown",
   "metadata": {},
   "source": [
    "**Ejercicio 1.2** ♦♦\n",
    "\n",
    "Definir una función `ajustar_intervalo` cuyos parámetros de entrada obligatorios son:\n",
    "\n",
    "- `a` y `b`: 2 valores numéricos.\n",
    "- `inter`: una tupla representando un intervalo.\n",
    "\n",
    "En esta función, si el intervalo `(a,b)` no está contenido en `inter`, debera ajustarlo para que lo esté. Por otro lado, si ocurre que `a>b`, hay que intencambiar dichos valores. \n",
    "\n",
    "La función devolverá el intervalo ajustado.\n"
   ]
  },
  {
   "cell_type": "code",
   "execution_count": 11,
   "metadata": {},
   "outputs": [
    {
     "name": "stdout",
     "output_type": "stream",
     "text": [
      "5 6\n"
     ]
    }
   ],
   "source": [
    "def ajustar_intervalo(a,b,inter):\n",
    "    if a>b:\n",
    "        a,b = b,a\n",
    "    if a<inter[0]: a = inter[0]\n",
    "    if b>inter[1]: b = inter[1]\n",
    "\n",
    "    return a,b\n",
    "\n",
    "\n",
    "### ejemplos:\n",
    "\n",
    "max, min = ajustar_intervalo(10,5,(3,6))\n",
    "print(max,min)\n"
   ]
  },
  {
   "cell_type": "markdown",
   "metadata": {},
   "source": [
    "**Ejercicio 1.3** ♦\n",
    "\n",
    "Definir una función que dado un string, devuelva una lista de posiciones en las que se encuentra un carácter. Ambos parámetros de entrada deben de ser obligatorios.\n",
    "\n",
    "_Pista_: un objeto de tipo `str` se trata de forma similar a las tuplas y listas: admite la indexación y el operador `len()`. No se puede modificar.\n"
   ]
  },
  {
   "cell_type": "code",
   "execution_count": 17,
   "metadata": {},
   "outputs": [
    {
     "data": {
      "text/plain": [
       "[0, 4]"
      ]
     },
     "execution_count": 17,
     "metadata": {},
     "output_type": "execute_result"
    }
   ],
   "source": [
    "def posicion(cadena, letra):\n",
    "    pos = []\n",
    "    for i in range(0,len(cadena)):\n",
    "        if cadena[i] == letra:\n",
    "            pos.append(i)\n",
    "    return pos\n",
    "\n",
    "#### Ejemplos\n",
    "\n",
    "posicion(\"abcda\", \"a\")\n"
   ]
  },
  {
   "cell_type": "markdown",
   "metadata": {},
   "source": [
    "**Ejercicio 1.4** ♦♦\n",
    "\n",
    "Definir una función que sume todos sus argumentos de entrada posicionales. Puede tener cualquier número de parámetros Por ejemplo: `suma() == 0`, `suma(5) == 5`, `suma(4,3) == 7`, `suma(1,2,3) == 6`\n"
   ]
  },
  {
   "cell_type": "code",
   "execution_count": 15,
   "metadata": {},
   "outputs": [
    {
     "name": "stdout",
     "output_type": "stream",
     "text": [
      "0\n",
      "5\n",
      "7\n",
      "6\n"
     ]
    }
   ],
   "source": [
    "def suma(*args):\n",
    "    res = 0\n",
    "    for elem in args:\n",
    "        res += elem\n",
    "\n",
    "    return res\n",
    "\n",
    "\n",
    "#### Ejemplos\n",
    "\n",
    "print(suma())\n",
    "print(suma(5))\n",
    "print(suma(4,3))\n",
    "print(suma(1,2,3))\n"
   ]
  },
  {
   "cell_type": "markdown",
   "metadata": {},
   "source": [
    "<h2 id=\"#sec2\"><font color=\"#004D7F\" size=5>2. Clases </font></h2>\n",
    "\n"
   ]
  },
  {
   "cell_type": "markdown",
   "metadata": {},
   "source": [
    "**Ejercicio 2.1** ♦♦\n",
    "\n",
    "Copia y pega la definición de la clase `Persona` que aparece en las diapositivas. Modifícala tal que:\n",
    "\n",
    "- el constructor admita un parámetro opcional `nac` indicando el año de nacimiento.\n",
    "- Un método edad que calcule la edad de la persona.\n",
    "- Modifica el método `saludo` para que indique su edad sólo si la sabe.\n",
    "\n"
   ]
  },
  {
   "cell_type": "code",
   "execution_count": 22,
   "metadata": {},
   "outputs": [
    {
     "name": "stdout",
     "output_type": "stream",
     "text": [
      "Hola mundo, soy Juan\n",
      "Hola mundo, soy Pepe\n",
      "tengo 34 años\n",
      "Hola mundo, soy María\n",
      "tengo 38 años\n"
     ]
    }
   ],
   "source": [
    "\n",
    "\n",
    "class Persona():\n",
    "    def __init__(self, nombre, nac=None):\n",
    "        self.nombre = nombre\n",
    "        self.nac = nac\n",
    "\n",
    "    def saluda(self):\n",
    "        print(f\"Hola mundo, soy {self.nombre}\")\n",
    "        if self.nac != None:\n",
    "            print(f\"tengo {self.edad()} años\")\n",
    "    \n",
    "    def edad(self):\n",
    "        return 2019-self.nac\n",
    "\n",
    "#### ejemplos:\n",
    "    \n",
    "    \n",
    "p1 = Persona(\"Juan\")\n",
    "p2 = Persona(\"Pepe\", nac=1985)\n",
    "p3 = Persona(\"María\", nac=1981)\n",
    "\n",
    "\n",
    "p1.saluda()\n",
    "p2.saluda()\n",
    "p3.saluda()\n"
   ]
  },
  {
   "cell_type": "markdown",
   "metadata": {},
   "source": [
    "<h2 id=\"#sec3\"><font color=\"#004D7F\" size=5>3. Paquetes y módulos </font></h2>\n",
    "\n"
   ]
  },
  {
   "cell_type": "markdown",
   "metadata": {},
   "source": [
    "**Ejercicio 3.1** ♦♦\n",
    "\n",
    "Define una función que devuelva una palabra clave de _python_ de forma aleatoria. Se podrá definir el número máximo y mínimo de caracteres, siendo 2 y 8 los valores por defecto.\n",
    "\n",
    "Para este ejercicio necesitarás importar los módulos `keyword` y `random` asignándoles un alias. Los componentes necesarios son:\n",
    "\n",
    "- `keyword.kwlist`: es una lista con todas las palabras clave.\n",
    "- `random.ranint(a,b)`: genera un entero de forma aleatoria en el intervalo `[a,b]` (ambos incluídos).\n",
    "\n",
    "\n",
    "\n"
   ]
  },
  {
   "cell_type": "code",
   "execution_count": 33,
   "metadata": {},
   "outputs": [
    {
     "name": "stdout",
     "output_type": "stream",
     "text": [
      "while\n",
      "break\n",
      "while\n",
      "pass\n",
      "None\n",
      "with\n",
      "None\n",
      "raise\n",
      "else\n",
      "else\n"
     ]
    }
   ],
   "source": [
    "import keyword as kw\n",
    "import random as rd\n",
    "\n",
    "def palabra_aleatoria(min=2, max=8):\n",
    "    p = [elem \n",
    "         for elem in kw.kwlist \n",
    "         if len(elem)>=min and len(elem)<=max]\n",
    "    i = rd.randint(0,len(p)-1)\n",
    "    return p[i]\n",
    "\n",
    "\n",
    "\n",
    "for _ in range(0,10):\n",
    "    print(palabra_aleatoria(4,5))\n",
    "    \n",
    "    "
   ]
  },
  {
   "cell_type": "markdown",
   "metadata": {},
   "source": [
    "<h2 id=\"#sec4\"><font color=\"#004D7F\" size=5>4. Ejercicio global: Juego del Ahorcado </font></h2>\n",
    "\n",
    "\n"
   ]
  },
  {
   "cell_type": "markdown",
   "metadata": {},
   "source": [
    "Implementa una versión sencilla del ahorcado utilizando palabras clave de _python_. La dinámica del juego es la siguiente:\n",
    "\n",
    "- En usuario debe de ir introduciendo por teclado letras hasta que acierte la palabra.\n",
    "- En todo comento, el usuario puede ver qué letras ha acertado y cuales no.\n",
    "- Dispone de tantos intentos como longitud de la palabra. Cada fallo disminuye el número de intentos. Los aciertos no.\n",
    "- Cuando no queden más intentos, o el usuario haya acertado todas, se mostratrá un mensaje con el resultado.\n",
    "\n",
    "Un ejemplo de salida sería:\n",
    "\n",
    "\n",
    "```\n",
    "Dime una letra, tienes 2 intentos\n",
    "a\n",
    "Bien, la letra a está 1 veces\n",
    "['a', '_']\n",
    "Dime una letra, tienes 2 intentos\n",
    "c\n",
    "La letra c no aparece\n",
    "['a', '_']\n",
    "Dime una letra, tienes 1 intentos\n",
    "f\n",
    "La letra f no aparece\n",
    "Lo siento, has perdido\n",
    "La palabra era as\n",
    "\n",
    "```\n",
    "\n",
    "Se creará una clase que tendrá los siguientes métodos:\n",
    "\n",
    "- constructor `__init__` al que se le podrá indicar el tamaño máximo y mínimo de palabras (todas están entre 2 y 8 caracterés ambos inclusive).\n",
    "\n",
    "- Un método `mostrar_estado` que muestre por pantalla el estado del tablero.\n",
    "\n",
    "- Un método `adivinada` que determine si ya se ha descubierto la palabra o no.\n",
    "\n",
    "- Un método `decir` que devuelva el número de aciertos y modifique el tablero.\n",
    "\n",
    "- Un método `comenzar` que implemente el bucle del juego.\n",
    "\n",
    "Con todo esto, el juego se iniciará con el código:\n",
    "\n",
    "```\n",
    "juego = ahorcado(max=1, min=2)\n",
    "juego.comenzar()\n",
    "```\n",
    "\n",
    "_Nota_: puedes reutilizar el funciones de ejercicios anteriores.\n",
    "\n",
    "\n",
    "\n",
    "\n",
    "\n"
   ]
  },
  {
   "cell_type": "code",
   "execution_count": 34,
   "metadata": {},
   "outputs": [
    {
     "name": "stdout",
     "output_type": "stream",
     "text": [
      "['_', '_']\n",
      "Dime una letra, tienes 2\n",
      "a\n",
      "Bien, la letra a está 1 veces\n",
      "['a', '_']\n",
      "Dime una letra, tienes 2\n",
      "s\n",
      "Bien, la letra s está 1 veces\n",
      "Enhorabuena, has ganado!!\n",
      "La palabra era as\n"
     ]
    }
   ],
   "source": [
    "\n",
    "class ahorcado():\n",
    "    def __init__(self, min=2, max=8):\n",
    "        min, max = ajustar_intervalo(min,max,(2,8))\n",
    "        self.palabra = palabra_aleatoria(min,max)\n",
    "        self.intentos = len(self.palabra)\n",
    "        self.adivinadas = [False for i in range(0,len(self.palabra))]\n",
    "\n",
    "\n",
    "    def mostrar_estado(self):\n",
    "        estado = []\n",
    "        for i in range(len(self.palabra)):\n",
    "            if self.adivinadas[i]:\n",
    "                estado.append(self.palabra[i])\n",
    "            else:\n",
    "                estado.append(\"_\")\n",
    "\n",
    "        print(estado)\n",
    "\n",
    "    def adivinada(self):\n",
    "        for elem in self.adivinadas:\n",
    "            if elem == False:\n",
    "                return False\n",
    "        return True\n",
    "\n",
    "\n",
    "    def decir(self, letra):\n",
    "\n",
    "        aciertos = posicion(self.palabra, letra)\n",
    "        for i in aciertos:\n",
    "            self.adivinadas[i] = True\n",
    "\n",
    "        return len(aciertos)\n",
    "\n",
    "    def comenzar(self):\n",
    "        while not self.adivinada() and self.intentos > 0:\n",
    "            self.mostrar_estado()\n",
    "            print(f\"Dime una letra, tienes {self.intentos}\")\n",
    "            letra = str(input())\n",
    "\n",
    "            if len(letra) > 1:\n",
    "                letra = letra[0]\n",
    "\n",
    "            aciertos = self.decir(letra)\n",
    "\n",
    "            if aciertos:\n",
    "                print(f\"Bien, la letra {letra} está {aciertos} veces\")\n",
    "            else:\n",
    "                print(f\"La letra {letra} no aparece\")\n",
    "                self.intentos -= 1\n",
    "\n",
    "        if self.intentos > 0:\n",
    "            print(\"Enhorabuena, has ganado!!\")\n",
    "        else:\n",
    "            print(\"Lo siento, has perdido\")\n",
    "\n",
    "        print(f\"La palabra era {self.palabra}\")\n",
    "\n",
    "\n",
    "\n",
    "\n",
    "###########  Llamada al juego ######## \n",
    "\n",
    "juego = ahorcado(max=1, min=2)\n",
    "juego.comenzar()\n",
    "\n",
    "\n",
    "\n",
    "\n",
    "\n"
   ]
  },
  {
   "cell_type": "code",
   "execution_count": null,
   "metadata": {},
   "outputs": [],
   "source": []
  }
 ],
 "metadata": {
  "anaconda-cloud": {},
  "kernelspec": {
   "display_name": "Python 3",
   "language": "python",
   "name": "python3"
  },
  "language_info": {
   "codemirror_mode": {
    "name": "ipython",
    "version": 3
   },
   "file_extension": ".py",
   "mimetype": "text/x-python",
   "name": "python",
   "nbconvert_exporter": "python",
   "pygments_lexer": "ipython3",
   "version": "3.6.0"
  }
 },
 "nbformat": 4,
 "nbformat_minor": 1
}
