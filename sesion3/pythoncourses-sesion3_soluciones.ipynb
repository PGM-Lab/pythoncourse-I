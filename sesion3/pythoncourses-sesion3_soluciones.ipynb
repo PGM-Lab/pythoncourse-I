{
 "cells": [
  {
   "cell_type": "markdown",
   "metadata": {},
   "source": [
    "<div style=\"background-image: url(../assets/header.png); background-size: cover; height: 100px\">\n",
    "<div style=\"padding: 10px; padding-left:20px\">    \n",
    "    \n",
    "<h1><font color=\"#585858\" size=4>Módulo 3</font><br>\n",
    "    <font color=\"#585858\" size=5>Listas, tupas y diccionarios</font></h1>\n",
    "</div>\n",
    "</div>\n",
    "\n",
    "\n",
    "<br>\n",
    "<div style=\"text-align: left\">\n",
    "<font color=\"#585858\" size=3>Rafael Cabañas</font><br>\n",
    "<font color=\"#585858\" size=3>Curso de Python I</font><br>\n",
    "<font color=\"#585858\" size=3>Universidad de Almería</font>\n",
    "\n",
    "</div>"
   ]
  },
  {
   "cell_type": "markdown",
   "metadata": {},
   "source": [
    "<h2><font color=\"#004D7F\" size=5>Índice</font></h2>\n",
    "\n",
    "---\n",
    "\n",
    "El objetivo de este tutorial es aprender a utilizar las estructuras de datos básicas en Python a partir de una serie de ejercicios. Para más información, se pueden consultar las trasparencias: \n",
    "\n",
    "[https://github.com/PGM-Lab/pythoncourse-I/blob/master/sesion3/pythoncourses-sesion3.pdf](https://github.com/PGM-Lab/pythoncourse-I/blob/master/sesion3/pythoncourses-sesion3.pdf)\n",
    "\n",
    "\n",
    "\n",
    "A modo de **índice**, en este tutorial se verán:\n",
    "\n",
    "\n",
    "* [1. Listas - definición e indexación](#sec1)\n",
    "* [2. Listas - modificación](#sec2)\n",
    "* [5. Listas - manejo avanzado](#sec3)\n",
    "* [4. Listas anidadas](#sec4)\n",
    "* [5. Comprensión de listas](#sec6)\n",
    "* [6. Tuplas y diccionarios](#sec5)\n",
    "\n",
    "\n",
    "El nivel de dificultad viene indicado por el número de ♦.\n"
   ]
  },
  {
   "cell_type": "markdown",
   "metadata": {},
   "source": [
    "<h2 id=\"#sec1\"><font color=\"#004D7F\" size=5>1. Listas - definición e indexación</font></h2>\n",
    "\n"
   ]
  },
  {
   "cell_type": "markdown",
   "metadata": {},
   "source": [
    "**Ejercicio 1.1** ♦\n",
    "\n",
    "Dada una lista con valores numéricos, mostrar por pantalla el resultado de multiplicarlo por 2\n"
   ]
  },
  {
   "cell_type": "code",
   "execution_count": 9,
   "metadata": {},
   "outputs": [
    {
     "name": "stdout",
     "output_type": "stream",
     "text": [
      "0\n",
      "2\n",
      "4\n",
      "6\n",
      "8\n",
      "10\n",
      "0\n",
      "2\n",
      "4\n",
      "6\n",
      "8\n",
      "10\n"
     ]
    }
   ],
   "source": [
    "x = [0,1,2,3,4,5]\n",
    "\n",
    "#### Escribe tu código a partir de aquí ###\n",
    "\n",
    "for i in range(0, len(x)):\n",
    "    print(2*x[i])\n",
    "    \n",
    "## otra opción:\n",
    "\n",
    "for elem in x:\n",
    "    print(elem*2)"
   ]
  },
  {
   "cell_type": "markdown",
   "metadata": {},
   "source": [
    "**Ejercicio 1.2** ♦\n",
    "\n",
    "Muestra los valores de una lista en orden inverso.\n"
   ]
  },
  {
   "cell_type": "code",
   "execution_count": 16,
   "metadata": {},
   "outputs": [
    {
     "name": "stdout",
     "output_type": "stream",
     "text": [
      "5\n",
      "4\n",
      "3\n",
      "2\n",
      "1\n",
      "0\n"
     ]
    }
   ],
   "source": [
    "x = [0,1,2,3,4,5]\n",
    "\n",
    "#### Escribe tu código a partir de aquí ###\n",
    "\n",
    "for i in range(len(x)-1, -1,-1):\n",
    "    print(x[i])\n",
    "    \n"
   ]
  },
  {
   "cell_type": "markdown",
   "metadata": {},
   "source": [
    "**Ejercicio 1.3** ♦♦\n",
    "\n",
    "Calcula la media de todos los elementos de una lista."
   ]
  },
  {
   "cell_type": "code",
   "execution_count": 17,
   "metadata": {},
   "outputs": [
    {
     "name": "stdout",
     "output_type": "stream",
     "text": [
      "2.5\n",
      "Correcto, bien hecho!!\n"
     ]
    }
   ],
   "source": [
    "x = [0,1,2,3,4,5]\n",
    "\n",
    "#### Escribe tu código a partir de aquí ###\n",
    "\n",
    "\n",
    "x_mean = 0\n",
    "for elem in x:\n",
    "    x_mean += elem\n",
    "\n",
    "x_mean = x_mean/len(x)\n",
    "\n",
    "print(x_mean)\n",
    "\n",
    "\n",
    "### Comprobación automática (no modifiques a partir de aquí) ####\n",
    "\n",
    "check = x_mean == sum(x)/len(x)\n",
    "if check: print(\"Correcto, bien hecho!!\")\n",
    "else: print(\"Incorrecto...\")"
   ]
  },
  {
   "cell_type": "markdown",
   "metadata": {},
   "source": [
    "**Ejercicio 1.4** ♦♦\n",
    "\n",
    "Muestra los elementos que sean de tipo string. \n",
    "\n",
    "_Pista_: `isinstance(\"abc\", str)` devuelve un booleando indicando si `\"abc\"` es de tipo `str`."
   ]
  },
  {
   "cell_type": "code",
   "execution_count": 21,
   "metadata": {},
   "outputs": [
    {
     "name": "stdout",
     "output_type": "stream",
     "text": [
      "4\n",
      "abc\n"
     ]
    }
   ],
   "source": [
    "x = [1,3,\"4\",6,7,\"abc\"]\n",
    "\n",
    "\n",
    "#### Escribe tu código a partir de aquí ###\n",
    "\n",
    "for elem in x:\n",
    "    if isinstance(elem, str):\n",
    "        print(elem)\n",
    "\n"
   ]
  },
  {
   "cell_type": "markdown",
   "metadata": {},
   "source": [
    "**Ejercicio 1.5** ♦♦\n",
    "\n",
    "Multiplica 2 vectores de igual tamaño `N` representados como listas, es decir:\n",
    "\n",
    "$$res = x\\cdot y^T$$"
   ]
  },
  {
   "cell_type": "code",
   "execution_count": 25,
   "metadata": {},
   "outputs": [
    {
     "name": "stdout",
     "output_type": "stream",
     "text": [
      "202\n",
      "Correcto, bien hecho!!\n"
     ]
    }
   ],
   "source": [
    "x = [1,0,1]\n",
    "y = [2,20,200]\n",
    "\n",
    "N = len(x)\n",
    "\n",
    "#### Escribe tu código a partir de aquí ###\n",
    "\n",
    "res = 0\n",
    "for i in range(0,N):\n",
    "    res += x[i]*y[i]\n",
    "\n",
    "print(res)\n",
    "\n",
    "\n",
    "\n",
    "### Comprobación automática (no modifiques a partir de aquí) ####\n",
    "\n",
    "check = res == sum([a*b for (a,b) in zip(x,y)])\n",
    "if check: print(\"Correcto, bien hecho!!\")\n",
    "else: print(\"Incorrecto...\")\n",
    "\n",
    "\n"
   ]
  },
  {
   "cell_type": "markdown",
   "metadata": {},
   "source": [
    "**Ejercicio 1.6** ♦♦♦\n",
    "\n",
    "Comprueba si todos elementos de A están en B utilizando un bucle for. Guarda el resultado en una variable booleana con nombre `subconjunto`.\n",
    "\n",
    "_Pista_: `elem not in LIST`"
   ]
  },
  {
   "cell_type": "code",
   "execution_count": 22,
   "metadata": {},
   "outputs": [
    {
     "name": "stdout",
     "output_type": "stream",
     "text": [
      "True\n",
      "Correcto, bien hecho!!\n"
     ]
    }
   ],
   "source": [
    "A = [1,2,3]\n",
    "B = [1,2,3,4,5,6]\n",
    "\n",
    "#### Escribe tu código a partir de aquí ###\n",
    "\n",
    "subconjunto = True\n",
    "for elem in A:\n",
    "    if elem not in B:\n",
    "        subconjunto = False\n",
    "\n",
    "print(subconjunto)\n",
    "\n",
    "\n",
    "### Comprobación automática (no modifiques a partir de aquí) ####\n",
    "\n",
    "check = subconjunto == (set(A) <= set(B))\n",
    "if check: print(\"Correcto, bien hecho!!\")\n",
    "else: print(\"Incorrecto...\")\n"
   ]
  },
  {
   "cell_type": "markdown",
   "metadata": {},
   "source": [
    "**Ejercicio 1.7** ♦♦♦\n",
    "\n",
    "Dada una lista con valores numéricos, comprobar si es un palíndromo. Guarda el resultado\n",
    "en una variable llamada `palindromo`\n",
    "\n",
    "\n",
    "_nota_: da igual que se hagan comprobaciones de más. \n",
    "\n"
   ]
  },
  {
   "cell_type": "code",
   "execution_count": 28,
   "metadata": {},
   "outputs": [
    {
     "name": "stdout",
     "output_type": "stream",
     "text": [
      "False\n",
      "Correcto, bien hecho!!\n"
     ]
    }
   ],
   "source": [
    "y = [0,1,2,3,2,1,0]\n",
    "\n",
    "#### Escribe tu código a partir de aquí ###\n",
    "\n",
    "palindromo = True\n",
    "for i in range(0,len(y)):\n",
    "    if y[i] != y[-i-1]:\n",
    "        palindromo = False\n",
    "\n",
    "print(palindromo)\n",
    "\n",
    "### Comprobación automática (no modifiques a partir de aquí) ####\n",
    "\n",
    "check = palindromo == (y==y[::-1])\n",
    "if check: print(\"Correcto, bien hecho!!\")\n",
    "else: print(\"Incorrecto...\")"
   ]
  },
  {
   "cell_type": "markdown",
   "metadata": {},
   "source": [
    "<a id=\"sec2\"></a><h2><font color=\"#004D7F\" size=5>2. Listas - modificación</font></h2>"
   ]
  },
  {
   "cell_type": "markdown",
   "metadata": {},
   "source": [
    "**Ejercicio 2.1** ♦\n",
    "\n",
    "Dada una lista con valores numéricos, multiplica cada elemento por 2 y guarda el resultado en una nueva lista"
   ]
  },
  {
   "cell_type": "code",
   "execution_count": 30,
   "metadata": {},
   "outputs": [
    {
     "name": "stdout",
     "output_type": "stream",
     "text": [
      "[0, 2, 4, 6, 8, 10]\n",
      "[0, 2, 4, 6, 8, 10]\n",
      "Correcto, bien hecho!!\n"
     ]
    }
   ],
   "source": [
    "x = [0,1,2,3,4,5]\n",
    "\n",
    "#### Escribe tu código a partir de aquí ###\n",
    "\n",
    "res = []\n",
    "for i in range(0, len(x)):\n",
    "    res.append(2*x[i])\n",
    "\n",
    "print(res)\n",
    "    \n",
    "## otra opción:\n",
    "\n",
    "res = []\n",
    "for elem in x:\n",
    "    res.append(elem*2)\n",
    "    \n",
    "print(res)\n",
    "\n",
    "\n",
    "### Comprobación automática (no modifiques a partir de aquí) ####\n",
    "\n",
    "\n",
    "check= x==[elem/2 for elem in res]\n",
    "if check: print(\"Correcto, bien hecho!!\")\n",
    "else: print(\"Incorrecto...\")"
   ]
  },
  {
   "cell_type": "markdown",
   "metadata": {},
   "source": [
    "**Ejercicio 2.2** ♦\n",
    "\n",
    "A partir de una lista `x`, crea una lista `res` que contenga los mismos elementos pero en orden inverso. Utiliza la función `append`. "
   ]
  },
  {
   "cell_type": "code",
   "execution_count": 34,
   "metadata": {},
   "outputs": [
    {
     "name": "stdout",
     "output_type": "stream",
     "text": [
      "[9, 8, 7, 6, 5, 4, 3, 2, 1, 0]\n",
      "Correcto, bien hecho!!\n"
     ]
    }
   ],
   "source": [
    "x = [0,1,2,3,4,5,6,7,8,9]\n",
    "\n",
    "#### Escribe tu código a partir de aquí ###\n",
    "\n",
    "\n",
    "res = []\n",
    "for i in range(len(x)-1, -1, -1):\n",
    "    res.append(x[i])\n",
    "\n",
    "print(res)\n",
    "\n",
    "\n",
    "\n",
    "### Comprobación automática (no modifiques a partir de aquí) ####\n",
    "\n",
    "\n",
    "check= res==[x[i-1] for i in range(len(x),0,-1)]\n",
    "if check: print(\"Correcto, bien hecho!!\")\n",
    "else: print(\"Incorrecto...\")\n"
   ]
  },
  {
   "cell_type": "markdown",
   "metadata": {},
   "source": [
    "**Ejercicio 2.3** ♦\n",
    "\n",
    "Multiplica elemento a elemento 2 listas de igual tamaño. Por ejemplo, al multiplicar `[1,0,1]` por `[2,20,200]` se obtendrá `[2,0,200]`. \n"
   ]
  },
  {
   "cell_type": "code",
   "execution_count": 43,
   "metadata": {},
   "outputs": [
    {
     "name": "stdout",
     "output_type": "stream",
     "text": [
      "[2, 0, 200]\n",
      "Correcto, bien hecho!!\n"
     ]
    }
   ],
   "source": [
    "x = [1,0,1]\n",
    "y = [2,20,200]\n",
    "\n",
    "#### Escribe tu código a partir de aquí ###\n",
    "\n",
    "\n",
    "\n",
    "N = len(x)\n",
    "\n",
    "res = []\n",
    "for i in range(0,N):\n",
    "    res.append(x[i]*y[i])\n",
    "\n",
    "    \n",
    "print(res)\n",
    "\n",
    "### Comprobación automática (no modifiques a partir de aquí) ####\n",
    "\n",
    "check = res == [a*b for (a,b) in zip(x,y)]\n",
    "if check: print(\"Correcto, bien hecho!!\")\n",
    "else: print(\"Incorrecto...\")\n",
    "\n"
   ]
  },
  {
   "cell_type": "markdown",
   "metadata": {},
   "source": [
    "**Ejercicio 2.4** ♦\n",
    "\n",
    "Permuta las posiciones `i`y `j` en una lista `x` "
   ]
  },
  {
   "cell_type": "code",
   "execution_count": 37,
   "metadata": {},
   "outputs": [
    {
     "name": "stdout",
     "output_type": "stream",
     "text": [
      "[0, 1, 7, 3, 4, 5, 6, 2, 8, 9]\n"
     ]
    }
   ],
   "source": [
    "x = [0,1,2,3,4,5,6,7,8,9]\n",
    "i = 2\n",
    "j = 7\n",
    "\n",
    "#### Escribe tu código a partir de aquí ###\n",
    "\n",
    "\n",
    "aux = x[i]\n",
    "x[i] = x[j]\n",
    "x[j] = aux\n",
    "\n",
    "print(x)\n"
   ]
  },
  {
   "cell_type": "markdown",
   "metadata": {},
   "source": [
    "**Ejercicio 2.5** ♦♦♦\n",
    "\n",
    "Permuta las posiciones pares por las impares. Si la lista tiene un número impar de elementos, elimina la última posición. Por ejemplo, la lista `[0,1,2,3,4]` se transformará `[1,0,3,2]`. \n"
   ]
  },
  {
   "cell_type": "code",
   "execution_count": 41,
   "metadata": {},
   "outputs": [
    {
     "name": "stdout",
     "output_type": "stream",
     "text": [
      "[1, 0, 3, 2]\n"
     ]
    }
   ],
   "source": [
    "x = [0,1,2,3,4]\n",
    "\n",
    "#### Escribe tu código a partir de aquí ###\n",
    "\n",
    "for i in range(0,len(x),2):\n",
    "    if i+1< len(x):\n",
    "        aux = x[i]\n",
    "        x[i] = x[i+1]\n",
    "        x[i+1] = aux\n",
    "    else:\n",
    "        del x[i]\n",
    "        \n",
    "print(x)\n"
   ]
  },
  {
   "cell_type": "markdown",
   "metadata": {},
   "source": [
    "**Ejercicio 2.6** ♦♦♦\n",
    "\n",
    "Crea una lista con la sucesión de Fibonacci hasta un número N. Por ejemplo, si `N=5` entonces `fib=[1,1,2,3,5,8]`."
   ]
  },
  {
   "cell_type": "code",
   "execution_count": 36,
   "metadata": {},
   "outputs": [
    {
     "name": "stdout",
     "output_type": "stream",
     "text": [
      "[1, 1, 2, 3, 5, 8]\n"
     ]
    }
   ],
   "source": [
    "N = 5\n",
    "\n",
    "#### Escribe tu código a partir de aquí ###\n",
    "\n",
    "fib = [1,1]\n",
    "\n",
    "for i in range(0, N-1):\n",
    "    fib.append(fib[-1] + fib[-2])\n",
    "\n",
    "\n",
    "print(fib)\n",
    "\n"
   ]
  },
  {
   "cell_type": "markdown",
   "metadata": {},
   "source": [
    "**Ejercicio 2.7** ♦♦\n",
    "\n",
    "Elimina los elmentos que sean de tipo string. Sin crear listas auxiliares. "
   ]
  },
  {
   "cell_type": "code",
   "execution_count": 44,
   "metadata": {},
   "outputs": [
    {
     "name": "stdout",
     "output_type": "stream",
     "text": [
      "Correcto, bien hecho!!\n"
     ]
    }
   ],
   "source": [
    "x = [1, 2, 5.5, \"4\", 5, \"abc\"]\n",
    "\n",
    "\n",
    "#### Escribe tu código a partir de aquí ###\n",
    "\n",
    "\n",
    "for i in range(len(x)-1, 0,-1):\n",
    "    if isinstance(x[i], str):\n",
    "        del x[i]\n",
    "\n",
    "        \n",
    "        \n",
    "# comprobación         \n",
    "\n",
    "check = x == [elem for elem in x if not isinstance(elem, str)]\n",
    "if check: print(\"Correcto, bien hecho!!\")\n",
    "else: print(\"Incorrecto...\")\n",
    "\n"
   ]
  },
  {
   "cell_type": "markdown",
   "metadata": {},
   "source": [
    "**Ejercicio 2.8** ♦♦\n",
    "\n",
    "Modifica una lista desplzando todos sus elmentos una posición a la derecha. Utiliza el método `insert`."
   ]
  },
  {
   "cell_type": "code",
   "execution_count": 56,
   "metadata": {},
   "outputs": [
    {
     "name": "stdout",
     "output_type": "stream",
     "text": [
      "[3, 4, 5, 6, 0, 1, 2]\n"
     ]
    }
   ],
   "source": [
    "x = [0,1,2,3,4,5,6] # --> [6,0,1,2,3,4,5]\n",
    "\n",
    "\n",
    "#### Escribe tu código a partir de aquí ###\n",
    "Ejercicio 2.8 ♦♦\n",
    "\n",
    "Modifica una lista desplzando todos sus elmentos una posición a la derecha. Utiliza el método `insert`.\n",
    "\n",
    "x.insert(0,x[-1])\n",
    "del x[-1]\n",
    "\n",
    "print(x)\n"
   ]
  },
  {
   "cell_type": "markdown",
   "metadata": {},
   "source": [
    "**Ejercicio 2.9** ♦♦\n",
    "\n",
    "Modifica una lista desplzando todos sus elmentos una posición a la derecha. Utiliza el método `append`."
   ]
  },
  {
   "cell_type": "code",
   "execution_count": 62,
   "metadata": {},
   "outputs": [
    {
     "name": "stdout",
     "output_type": "stream",
     "text": [
      "[6, 0, 1, 2, 3, 4, 5]\n"
     ]
    }
   ],
   "source": [
    "x = [0,1,2,3,4,5,6] # --> [6,0,1,2,3,4,5]\n",
    "\n",
    "#### Escribe tu código a partir de aquí ###\n",
    "\n",
    "aux = [x[-1]]\n",
    "for i in range(len(x)-1):\n",
    "    aux.append(x[i])\n",
    "x = aux\n",
    "\n",
    "print(x)\n"
   ]
  },
  {
   "cell_type": "markdown",
   "metadata": {},
   "source": [
    "**Ejercicio** 2.10 ♦♦\n",
    "\n",
    "\n",
    "A partir de 2 listas `k` y `v` genera una `res` nueva lista con sus elementos entrelazados. Por ejemplo,\n",
    "si `k=[\"1\",\"2\"]` y `v=[1,2]` entonces `res=[\"1\", 1, \"2\", 2]` "
   ]
  },
  {
   "cell_type": "code",
   "execution_count": 65,
   "metadata": {},
   "outputs": [
    {
     "name": "stdout",
     "output_type": "stream",
     "text": [
      "['0', 0, '1', 1, '2', 2, '3', 3, '4', 4, '5', 5, '6', 6, '7', 7, '8', 8]\n",
      "Correcto, bien hecho!!\n"
     ]
    }
   ],
   "source": [
    "\n",
    "## listas entrelazadas (de igual número de elementos)\n",
    "\n",
    "k = [\"0\",\"1\",\"2\",\"3\",\"4\",\"5\",\"6\",\"7\",\"8\"]\n",
    "v = [0,1,2,3,4,5,6,7,8]\n",
    "\n",
    "#### Escribe tu código a partir de aquí ###\n",
    "\n",
    "\n",
    "N = len(k)\n",
    "\n",
    "res = []\n",
    "for i in range(N):\n",
    "    res.append(k[i])\n",
    "    res.append(v[i])\n",
    "\n",
    "print(res)\n",
    "\n",
    "\n",
    "check= res== ['0', 0, '1', 1, '2', 2, '3', 3, '4', 4, '5', 5, '6', 6, '7', 7, '8', 8]\n",
    "if check: print(\"Correcto, bien hecho!!\")\n",
    "else: print(\"Incorrecto...\")\n"
   ]
  },
  {
   "cell_type": "markdown",
   "metadata": {},
   "source": [
    "**Ejercicio** 2.11 ♦♦\n",
    "\n",
    "Ordena una lista `x` utilizando el método de la burbuja. Este algorimto compara cada elemento `x[i]` con todos los elementos `x[j]` tal que `i<j`. Si al hacer la compración están en el orden incorrecto, realiza la permutación."
   ]
  },
  {
   "cell_type": "code",
   "execution_count": null,
   "metadata": {},
   "outputs": [],
   "source": [
    "x = [1,2,5,2,3,8,0,9,15,12]\n",
    "\n",
    "#### Escribe tu código a partir de aquí ###\n",
    "\n",
    "for i in range(len(x)-1):\n",
    "    for j in range(i+1,len(x)):\n",
    "        if x[i]>x[j]:\n",
    "            aux = x[i]\n",
    "            x[i] = x[j]\n",
    "            x[j] = aux\n",
    "\n",
    "            \n",
    "### comprobación automática\n",
    "            \n",
    "check = x == x.copy().sort()\n",
    "if check: print(\"Correcto, bien hecho!!\")\n",
    "else: print(\"Incorrecto...\")\n",
    "\n",
    "\n"
   ]
  },
  {
   "cell_type": "markdown",
   "metadata": {},
   "source": [
    "<a id=\"sec3\"></a><h2><font color=\"#004D7F\" size=5>3. Listas - manejo avanzado</font></h2>\n"
   ]
  },
  {
   "cell_type": "markdown",
   "metadata": {},
   "source": [
    "**Ejercicio** 3.1 ♦\n",
    "\n",
    "Comprueba si una lista es un palíndromo sin utilizar bucles.\n"
   ]
  },
  {
   "cell_type": "code",
   "execution_count": 2,
   "metadata": {},
   "outputs": [
    {
     "data": {
      "text/plain": [
       "True"
      ]
     },
     "execution_count": 2,
     "metadata": {},
     "output_type": "execute_result"
    }
   ],
   "source": [
    "x = [1,2,3,2,1]\n",
    "\n",
    "#### Escribe tu código a partir de aquí ###\n",
    "\n",
    "x == x[0:len(x):-1]\n",
    "\n",
    "## otra opción \n",
    "\n",
    "x == x[::-1]\n"
   ]
  },
  {
   "cell_type": "markdown",
   "metadata": {},
   "source": [
    "**Ejercicio** 3.2 ♦♦\n",
    "\n",
    "Crea un palíndromo a partir de cualquier lista. Para ello concatena una lista y su lista inversa\n"
   ]
  },
  {
   "cell_type": "code",
   "execution_count": 30,
   "metadata": {},
   "outputs": [
    {
     "name": "stdout",
     "output_type": "stream",
     "text": [
      "[1, 2, 3, 3, 2, 1]\n"
     ]
    }
   ],
   "source": [
    "x = [1,2,3]\n",
    "\n",
    "#### Escribe tu código a partir de aquí ###\n",
    "\n",
    "x = x + x[::-1]\n",
    "\n",
    "print(x)"
   ]
  },
  {
   "cell_type": "markdown",
   "metadata": {},
   "source": [
    "**Ejercicio** 3.3 ♦♦\n",
    "\n",
    "Crea una lista `res` con los elementos en las posiciones pares de otra lista `x`"
   ]
  },
  {
   "cell_type": "code",
   "execution_count": 9,
   "metadata": {},
   "outputs": [
    {
     "name": "stdout",
     "output_type": "stream",
     "text": [
      "[0, 2, 4, 6, 8]\n"
     ]
    }
   ],
   "source": [
    "x = [0,1,2,3,4,5,6,7,8,9]\n",
    "\n",
    "#### Escribe tu código a partir de aquí ###\n",
    "\n",
    "\n",
    "res = x[0::2]\n",
    "\n",
    "print(res)\n"
   ]
  },
  {
   "cell_type": "markdown",
   "metadata": {},
   "source": [
    "**Ejercicio** 3.4 ♦♦\n",
    "\n",
    "Elimina de una lista `x` los elementos en posiciones impares"
   ]
  },
  {
   "cell_type": "code",
   "execution_count": 11,
   "metadata": {},
   "outputs": [
    {
     "name": "stdout",
     "output_type": "stream",
     "text": [
      "[0, 2, 4, 6, 8]\n"
     ]
    }
   ],
   "source": [
    "x = [0,1,2,3,4,5,6,7,8,9]\n",
    "\n",
    "#### Escribe tu código a partir de aquí ###\n",
    "\n",
    "del x[1::2]\n",
    "\n",
    "print(x)\n"
   ]
  },
  {
   "cell_type": "markdown",
   "metadata": {},
   "source": [
    "**Ejercicio** 3.5 ♦♦♦♦\n",
    "\n",
    "Elimina los elementos duplicados en una lista sin crear ninguna otra lista ni estructura auxiliar.\n",
    "\n",
    "_Nota_: al eliminar un elemento de una lista, los índices de los elementos posteriores se decrementan. "
   ]
  },
  {
   "cell_type": "code",
   "execution_count": 11,
   "metadata": {},
   "outputs": [
    {
     "name": "stdout",
     "output_type": "stream",
     "text": [
      "[0, 2, 4, 6, 8]\n"
     ]
    }
   ],
   "source": [
    "x = [1,2,2,3,4,2,4,5,6]\n",
    "\n",
    "\n",
    "#### Escribe tu código a partir de aquí ###\n",
    "\n",
    "\n",
    "for i in range(len(x)-1, 0, -1):\n",
    "    if x[i] in x[0:i]:\n",
    "        del x[i]\n",
    "\n",
    "        \n",
    "        \n",
    "##### Comprobación ########\n",
    "\n",
    "check= x == list(set(x))\n",
    "if check: print(\"Correcto, bien hecho!!\")\n",
    "else: print(\"Incorrecto...\")\n",
    "\n"
   ]
  },
  {
   "cell_type": "markdown",
   "metadata": {},
   "source": [
    "**Ejercicio** 3.6 ♦♦\n",
    "\n",
    "Dada una lista `x` de cualquier tamaño, divídela en 2 listas `x1` y `x2` tales que la concatenación de ambas dé como resultado la lista original. No puedes utilizar bucles."
   ]
  },
  {
   "cell_type": "code",
   "execution_count": 2,
   "metadata": {},
   "outputs": [
    {
     "name": "stdout",
     "output_type": "stream",
     "text": [
      "Correcto, bien hecho!!\n"
     ]
    }
   ],
   "source": [
    "x = [1,2,2,3,4,2,4,5,6]\n",
    "\n",
    "\n",
    "#### Escribe tu código a partir de aquí ###\n",
    "\n",
    "\n",
    "x1 = x[:int(len(x)/2)]\n",
    "\n",
    "x2 = x[int(len(x)/2):]\n",
    "\n",
    "        \n",
    "        \n",
    "##### Comprobación ########\n",
    "\n",
    "check= x == x1 + x2\n",
    "if check: print(\"Correcto, bien hecho!!\")\n",
    "else: print(\"Incorrecto...\")\n",
    "\n"
   ]
  },
  {
   "cell_type": "markdown",
   "metadata": {},
   "source": [
    "<a id=\"sec3\"><h2><font color=\"#004D7F\" size=5>4. Listas anidadas</font></h2>\n"
   ]
  },
  {
   "cell_type": "markdown",
   "metadata": {},
   "source": [
    "**Ejercicio** 4.1 ♦\n",
    "\n",
    "Obten la diagonal de una matriz cuadrada de 2 dimensiones de tamaño NxN\n"
   ]
  },
  {
   "cell_type": "code",
   "execution_count": 12,
   "metadata": {},
   "outputs": [
    {
     "name": "stdout",
     "output_type": "stream",
     "text": [
      "[0, 12, 22]\n"
     ]
    }
   ],
   "source": [
    "x = [[0,1,2],[10,12,13],[20,21,22]]\n",
    "\n",
    "\n",
    "#### Escribe tu código a partir de aquí ###\n",
    "\n",
    "\n",
    "diag = []\n",
    "for i in range(len(x)):\n",
    "    diag.append(x[i][i])\n",
    "\n",
    "print(diag)\n",
    "\n"
   ]
  },
  {
   "cell_type": "markdown",
   "metadata": {},
   "source": [
    "**Ejercicio** 4.2 ♦♦\n",
    "\n",
    "Dada una matriz de tamaño 3x3, elimina la columna central\n"
   ]
  },
  {
   "cell_type": "code",
   "execution_count": 24,
   "metadata": {},
   "outputs": [
    {
     "name": "stdout",
     "output_type": "stream",
     "text": [
      "[[0, 2], [10, 13], [20, 22]]\n"
     ]
    }
   ],
   "source": [
    "x = [[0,1,2],[10,12,13],[20,21,22]]\n",
    "\n",
    "\n",
    "#### Escribe tu código a partir de aquí ###\n",
    "\n",
    "for i in range(len(x)):\n",
    "    del x[i][1]\n",
    "\n",
    "print(x)"
   ]
  },
  {
   "cell_type": "markdown",
   "metadata": {},
   "source": [
    "**Ejercicio** 4.3 ♦♦♦\n",
    "\n",
    "Crea una lista de tamaño `N` donde cada posición `n` sea a su vez otra lista con todos los números de fibonaci desde 0 hasta `n` (ambos incluídos). Por ejemplo, si `N=4` obtendríamos `fib=[[1], [1, 1], [1, 1], [1, 1, 2], [1, 1, 2, 3]]`.\n",
    "\n",
    "_Pista_: partimos de `fib = [[1], [1,1]]`\n",
    "\n"
   ]
  },
  {
   "cell_type": "code",
   "execution_count": 35,
   "metadata": {},
   "outputs": [
    {
     "name": "stdout",
     "output_type": "stream",
     "text": [
      "[[1], [1, 1], [1, 1, 2], [1, 1, 2, 3], [1, 1, 2, 3, 5]]\n",
      "[[1], [1, 1], [1, 1, 2], [1, 1, 2, 3], [1, 1, 2, 3, 5]]\n"
     ]
    }
   ],
   "source": [
    "N = 5\n",
    "\n",
    "\n",
    "fib = [[1], [1,1]]\n",
    "for n in range(2, N):\n",
    "    fib_n = [1,1]\n",
    "    for i in range(0, n-1):\n",
    "        fib_n.append(fib_n[-1] + fib_n[-2])\n",
    "    fib.append(fib_n)\n",
    "\n",
    "        \n",
    "print(fib)\n",
    "\n",
    "##### Método más eficiente\n",
    "\n",
    "fib = [[1], [1,1]]\n",
    "for n in range(2, N):\n",
    "    fib = fib + [fib[-1] + [fib[-1][-1] + fib[-1][-2]]]\n",
    "        \n",
    "print(fib)\n",
    "\n",
    "\n",
    "\n"
   ]
  },
  {
   "cell_type": "markdown",
   "metadata": {},
   "source": [
    "**Ejercicio** 4.4 ♦♦♦\n",
    "\n",
    "Convierte una lista de 1 dimensión, en una lista de sublistas de tamaño `k` (i.e., 2 dimensiones). La última sublista puede tener un tamaño menor.\n"
   ]
  },
  {
   "cell_type": "code",
   "execution_count": 31,
   "metadata": {},
   "outputs": [
    {
     "name": "stdout",
     "output_type": "stream",
     "text": [
      "[[5, 6, 7], [4, 1]]\n"
     ]
    }
   ],
   "source": [
    "k = 3\n",
    "\n",
    "x = [5,6,7,4,1]\n",
    "\n",
    "#### Escribe tu código a partir de aquí ###\n",
    "\n",
    "res = []\n",
    "\n",
    "while len(x)>0:\n",
    "    res.append(x[:k])\n",
    "    del x[:k]\n",
    "\n",
    "\n",
    "\n",
    "print(res)\n"
   ]
  },
  {
   "cell_type": "markdown",
   "metadata": {},
   "source": [
    "<a id=\"sec5\"></a><h2><font color=\"#004D7F\" size=5>5. Comprensión de listas</font></h2>\n",
    "\n"
   ]
  },
  {
   "cell_type": "markdown",
   "metadata": {},
   "source": [
    "\n",
    "**Ejercicio** 5.1 ♦\n",
    "\n",
    "Obten una lista con las potencias en base 2 hasta un número N. __Nota__: el operador de potencia es `**`, por ejemplo: `2**3` es $2^3$  \n",
    "\n",
    "\n",
    "\n"
   ]
  },
  {
   "cell_type": "code",
   "execution_count": 32,
   "metadata": {},
   "outputs": [
    {
     "name": "stdout",
     "output_type": "stream",
     "text": [
      "[1, 2, 4, 8, 16, 32, 64, 128, 256, 512, 1024]\n"
     ]
    }
   ],
   "source": [
    "N = 10\n",
    "\n",
    "#### Escribe tu código a partir de aquí ###\n",
    "\n",
    "\n",
    "res = [2**i for i in range(0,N+1)]\n",
    "\n",
    "print(res)"
   ]
  },
  {
   "cell_type": "markdown",
   "metadata": {},
   "source": [
    "**Ejercicio** 5.2 ♦\n",
    "\n",
    "Dado el siguiente código, escribe un código equivalente que genere el mismo resultado pero utilizando las comprensiones de listas\n",
    " "
   ]
  },
  {
   "cell_type": "code",
   "execution_count": 33,
   "metadata": {},
   "outputs": [
    {
     "name": "stdout",
     "output_type": "stream",
     "text": [
      "[1.0, 1.4142135623730951, 2.23606797749979, 2.449489742783178, 3.3166247903554]\n",
      "[1.0, 1.4142135623730951, 2.23606797749979, 2.449489742783178, 3.3166247903554]\n"
     ]
    }
   ],
   "source": [
    "import math\n",
    "\n",
    "x = [1,2,-2,5,6,-8,0,11]\n",
    "\n",
    "#### Escribe tu código a partir de aquí ###\n",
    "\n",
    "res = []\n",
    "for elem in x:\n",
    "    if elem>0:\n",
    "        res.append(math.sqrt(elem))\n",
    "\n",
    "print(res)\n",
    "\n",
    "#### Escribe tu código a partir de aquí ###\n",
    "\n",
    "res = [math.sqrt(elem) for elem in x if elem>0]\n",
    "print(res)"
   ]
  },
  {
   "cell_type": "markdown",
   "metadata": {},
   "source": [
    "**Ejercicio** 5.3 ♦♦\n",
    "\n",
    "Dado un número `n`, obten una lista con todos sus divisores (incluyendo a 1 y sin incluir a `n`). \n",
    " "
   ]
  },
  {
   "cell_type": "code",
   "execution_count": 34,
   "metadata": {},
   "outputs": [
    {
     "name": "stdout",
     "output_type": "stream",
     "text": [
      "[1, 3]\n"
     ]
    }
   ],
   "source": [
    "n = 9\n",
    "\n",
    "#### Escribe tu código a partir de aquí ###\n",
    "\n",
    "div =[i for i in range(1,int(1+ n/2)) if n%i == 0]\n",
    "\n",
    "print(div)\n"
   ]
  },
  {
   "cell_type": "markdown",
   "metadata": {},
   "source": [
    "**Ejercicio** 5.4 ♦♦♦\n",
    "\n",
    "Obten una lista con todos los números primos menores que `N`. Utiliza comprensiones de listas anidadas.\n",
    " "
   ]
  },
  {
   "cell_type": "code",
   "execution_count": 22,
   "metadata": {},
   "outputs": [
    {
     "data": {
      "text/plain": [
       "[1,\n",
       " 2,\n",
       " 3,\n",
       " 5,\n",
       " 7,\n",
       " 11,\n",
       " 13,\n",
       " 17,\n",
       " 19,\n",
       " 23,\n",
       " 29,\n",
       " 31,\n",
       " 37,\n",
       " 41,\n",
       " 43,\n",
       " 47,\n",
       " 53,\n",
       " 59,\n",
       " 61,\n",
       " 67,\n",
       " 71,\n",
       " 73,\n",
       " 79,\n",
       " 83,\n",
       " 89,\n",
       " 97]"
      ]
     },
     "execution_count": 22,
     "metadata": {},
     "output_type": "execute_result"
    }
   ],
   "source": [
    "N = 100\n",
    "\n",
    "#### Escribe tu código a partir de aquí ###\n",
    "\n",
    "\n",
    "[n for n in range(1,N) if len([i for i in range(1,int(1+ n/2)) if n%i == 0])<2]"
   ]
  },
  {
   "cell_type": "markdown",
   "metadata": {},
   "source": [
    "<a id=\"#sec6\"></a><h2><font color=\"#004D7F\" size=5>6. Tuplas y diccionarios</font></h2>\n",
    "\n"
   ]
  },
  {
   "cell_type": "markdown",
   "metadata": {},
   "source": [
    "\n",
    "**Ejercicio** 6.1 ♦\n",
    "\n",
    "Muestra todos los valores de una tupla `t`.\n",
    "\n",
    "\n",
    "\n"
   ]
  },
  {
   "cell_type": "code",
   "execution_count": 35,
   "metadata": {},
   "outputs": [
    {
     "name": "stdout",
     "output_type": "stream",
     "text": [
      "-1\n",
      "2\n",
      "3\n"
     ]
    }
   ],
   "source": [
    "t = (-1,2,3)\n",
    "\n",
    "#### Escribe tu código a partir de aquí ###\n",
    "\n",
    "for elem in t:\n",
    "    print(elem)"
   ]
  },
  {
   "cell_type": "markdown",
   "metadata": {},
   "source": [
    "\n",
    "**Ejercicio** 6.2 ♦♦\n",
    "\n",
    "Dada una lista con valores positivos y negativos, modifica aquellos valores que sean negativos haciéndolos positivos.\n",
    "\n",
    "\n",
    "\n"
   ]
  },
  {
   "cell_type": "code",
   "execution_count": 36,
   "metadata": {},
   "outputs": [
    {
     "name": "stdout",
     "output_type": "stream",
     "text": [
      "(1, 2, 3)\n"
     ]
    }
   ],
   "source": [
    "t = (-1,2,3)\n",
    "\n",
    "#### Escribe tu código a partir de aquí ###\n",
    "\n",
    "aux = list(t)\n",
    "for i in range(0,len(aux)):\n",
    "    if aux[i]<0:\n",
    "        aux[i] = -1 * aux[i]\n",
    "\n",
    "t = tuple(aux)\n",
    "\n",
    "    \n",
    "print(t)\n"
   ]
  },
  {
   "cell_type": "markdown",
   "metadata": {},
   "source": [
    "\n",
    "**Ejercicio** 6.2 ♦♦\n",
    "\n",
    "Crea un diccionario `dnum` que contenga una entrada para cada número de 0 a `N`. La clave será un string representando dicho número, y el valor el propio valor numérico.\n",
    "\n",
    "\n",
    "\n"
   ]
  },
  {
   "cell_type": "code",
   "execution_count": 37,
   "metadata": {},
   "outputs": [
    {
     "name": "stdout",
     "output_type": "stream",
     "text": [
      "{'0': 0, '1': 1, '2': 2, '3': 3, '4': 4, '5': 5, '6': 6, '7': 7, '8': 8, '9': 9, '10': 10, '11': 11, '12': 12, '13': 13, '14': 14, '15': 15, '16': 16, '17': 17, '18': 18, '19': 19}\n"
     ]
    }
   ],
   "source": [
    "N = 20\n",
    "\n",
    "#### Escribe tu código a partir de aquí ###\n",
    "\n",
    "dnum = {}\n",
    "for i in range(0,N):\n",
    "    dnum.update({str(i):i})\n",
    "    \n",
    "print(dnum)\n"
   ]
  },
  {
   "cell_type": "code",
   "execution_count": null,
   "metadata": {},
   "outputs": [],
   "source": []
  }
 ],
 "metadata": {
  "anaconda-cloud": {},
  "kernelspec": {
   "display_name": "Python 3",
   "language": "python",
   "name": "python3"
  },
  "language_info": {
   "codemirror_mode": {
    "name": "ipython",
    "version": 3
   },
   "file_extension": ".py",
   "mimetype": "text/x-python",
   "name": "python",
   "nbconvert_exporter": "python",
   "pygments_lexer": "ipython3",
   "version": "3.6.0"
  }
 },
 "nbformat": 4,
 "nbformat_minor": 1
}
